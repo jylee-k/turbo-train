{
 "cells": [
  {
   "cell_type": "code",
   "execution_count": null,
   "metadata": {},
   "outputs": [],
   "source": [
    "# import necessary libraries\n",
    "import json\n",
    "import pandas as pd\n"
   ]
  },
  {
   "cell_type": "code",
   "execution_count": 3,
   "metadata": {},
   "outputs": [],
   "source": [
    "import json\n",
    "import re\n",
    "from sentence_transformers import SentenceTransformer, util\n",
    "\n",
    "# Load data\n",
    "with open('assets/column_names.json', 'r') as file:\n",
    "    data = json.load(file)\n",
    "\n",
    "# Preprocess text\n",
    "def preprocess(text):\n",
    "    text = re.sub(r'\\d+', '', text)  # Remove numbers\n",
    "    text = re.sub(r'\\W+', ' ', text)  # Remove special characters\n",
    "    text = text.lower()  # Convert to lowercase\n",
    "    return text\n",
    "\n",
    "# Extract embeddings\n",
    "model = SentenceTransformer('all-MiniLM-L6-v2')\n"
   ]
  },
  {
   "cell_type": "code",
   "execution_count": 13,
   "metadata": {},
   "outputs": [
    {
     "name": "stdout",
     "output_type": "stream",
     "text": [
      "(0, 'Summary Data')\n"
     ]
    }
   ],
   "source": [
    "for section in enumerate(data['2018']):\n",
    "    print(section)\n",
    "    break"
   ]
  },
  {
   "cell_type": "code",
   "execution_count": null,
   "metadata": {},
   "outputs": [],
   "source": [
    "\n",
    "# Create mappings\n",
    "def create_mappings(data, year1, year2):\n",
    "    questions_year1 = data[year1]\n",
    "    questions_year2 = data[year2]\n",
    "    \n",
    "    preprocessed_year1 = [preprocess(q) for q in questions_year1]\n",
    "    preprocessed_year2 = [preprocess(q) for q in questions_year2]\n",
    "    \n",
    "    embeddings_year1 = model.encode(preprocessed_year1)\n",
    "    embeddings_year2 = model.encode(preprocessed_year2)\n",
    "    \n",
    "    similarity_matrix = util.cos_sim(embeddings_year1, embeddings_year2)\n",
    "    \n",
    "    mappings = {}\n",
    "    for i, question in enumerate(questions_year1):\n",
    "        max_sim_idx = similarity_matrix[i].argmax()\n",
    "        mappings[question] = questions_year2[max_sim_idx]\n",
    "    \n",
    "    return mappings\n"
   ]
  },
  {
   "cell_type": "code",
   "execution_count": null,
   "metadata": {},
   "outputs": [],
   "source": [
    "\n",
    "years = ['2018', '2019', '2020', '2021', '2022']\n",
    "for i in range(len(years) - 1):\n",
    "    year1 = years[i]\n",
    "    year2 = years[i + 1]\n",
    "    mappings = create_mappings(data, year1, year2)\n",
    "    \n",
    "    with open(f'{year1}-{year2} mapping.json', 'w') as outfile:\n",
    "        json.dump(mappings, outfile, indent=4)\n"
   ]
  }
 ],
 "metadata": {
  "kernelspec": {
   "display_name": ".venv",
   "language": "python",
   "name": "python3"
  },
  "language_info": {
   "codemirror_mode": {
    "name": "ipython",
    "version": 3
   },
   "file_extension": ".py",
   "mimetype": "text/x-python",
   "name": "python",
   "nbconvert_exporter": "python",
   "pygments_lexer": "ipython3",
   "version": "3.11.9"
  }
 },
 "nbformat": 4,
 "nbformat_minor": 2
}
