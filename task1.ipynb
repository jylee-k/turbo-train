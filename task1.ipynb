{
 "cells": [
  {
   "cell_type": "code",
   "execution_count": 27,
   "metadata": {},
   "outputs": [
    {
     "name": "stderr",
     "output_type": "stream",
     "text": [
      "/Users/jylee/Desktop/turbo-train/.venv/lib/python3.11/site-packages/huggingface_hub/file_download.py:1132: FutureWarning: `resume_download` is deprecated and will be removed in version 1.0.0. Downloads always resume when possible. If you want to force a new download, use `force_download=True`.\n",
      "  warnings.warn(\n"
     ]
    }
   ],
   "source": [
    "import json\n",
    "import re\n",
    "from sentence_transformers import SentenceTransformer, util\n",
    "\n",
    "# Load data\n",
    "with open('assets/column_names.json', 'r') as file:\n",
    "    data = json.load(file)\n",
    "\n",
    "# Preprocess text\n",
    "def preprocess(text):\n",
    "    text = re.sub(r'\\d+', '', text)  # Remove numbers\n",
    "    text = re.sub(r'\\W+', ' ', text)  # Remove special characters\n",
    "    text = text.lower()  # Convert to lowercase\n",
    "    return text\n",
    "\n",
    "# Extract embeddings\n",
    "model = SentenceTransformer('all-MiniLM-L6-v2',)\n"
   ]
  },
  {
   "cell_type": "code",
   "execution_count": 25,
   "metadata": {},
   "outputs": [],
   "source": [
    "\n",
    "# Create mappings\n",
    "def create_mappings(data, year1, year2):\n",
    "    mappings = {}\n",
    "    \n",
    "    for section in data[year1]:\n",
    "        if section in data[year2]:  # Ensure the section exists in both years\n",
    "            \n",
    "            questions_year1 = [qn for qn in data[year1][section] if qn.startswith(section)]\n",
    "            questions_year2 = [qn for qn in data[year2][section] if qn.startswith(section)]\n",
    "            \n",
    "            preprocessed_year1 = [preprocess(q) for q in questions_year1]\n",
    "            preprocessed_year2 = [preprocess(q) for q in questions_year2]\n",
    "            \n",
    "            if not preprocessed_year1 or not preprocessed_year2:\n",
    "                continue  # Skip if any list is empty\n",
    "            \n",
    "            embeddings_year1 = model.encode(preprocessed_year1)\n",
    "            embeddings_year2 = model.encode(preprocessed_year2)\n",
    "            \n",
    "            similarity_matrix = util.cos_sim(embeddings_year1, embeddings_year2)\n",
    "            \n",
    "            section_mappings = {}\n",
    "            for i, question in enumerate(questions_year1):\n",
    "                max_sim_idx = similarity_matrix[i].argmax()\n",
    "                section_mappings[question] = questions_year2[max_sim_idx]\n",
    "            \n",
    "            mappings[section] = section_mappings\n",
    "\n",
    "    return mappings\n"
   ]
  },
  {
   "cell_type": "code",
   "execution_count": 26,
   "metadata": {},
   "outputs": [
    {
     "name": "stdout",
     "output_type": "stream",
     "text": [
      "Mappings created successfully.\n"
     ]
    }
   ],
   "source": [
    "\n",
    "years = ['2018', '2019', '2020', '2021', '2022']\n",
    "for i in range(len(years) - 1):\n",
    "    year1 = years[i]\n",
    "    year2 = years[i + 1]\n",
    "    mappings = create_mappings(data, year1, year2)\n",
    "    \n",
    "    with open(f'{year1}-{year2} mapping.json', 'w') as outfile:\n",
    "        json.dump(mappings, outfile, indent=4)\n"
   ]
  }
 ],
 "metadata": {
  "kernelspec": {
   "display_name": ".venv",
   "language": "python",
   "name": "python3"
  },
  "language_info": {
   "codemirror_mode": {
    "name": "ipython",
    "version": 3
   },
   "file_extension": ".py",
   "mimetype": "text/x-python",
   "name": "python",
   "nbconvert_exporter": "python",
   "pygments_lexer": "ipython3",
   "version": "3.11.9"
  }
 },
 "nbformat": 4,
 "nbformat_minor": 2
}
